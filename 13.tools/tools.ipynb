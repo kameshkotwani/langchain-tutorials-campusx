{
 "cells": [
  {
   "cell_type": "code",
   "execution_count": 1,
   "id": "a924acbd",
   "metadata": {},
   "outputs": [],
   "source": [
    "from langchain_community.tools import DuckDuckGoSearchRun"
   ]
  },
  {
   "cell_type": "code",
   "execution_count": 2,
   "id": "66de7fdb",
   "metadata": {},
   "outputs": [
    {
     "name": "stdout",
     "output_type": "stream",
     "text": [
      "Learn about India, the most populous democracy and the seventh-largest country in the world. Explore its diverse history, geography, culture, and politics from ancient times to the present. India (Hindi pronunciation: Bhārat), officially the Republic of India (Hindi pronunciation: Bhārat Gaṇarājya), [20] also known as Hindustan, [21] is a country in South Asia.It is the seventh-largest country by area.It is also the most populated country in the world. [22] It is the world's largest democracy by number of people since 1947. [23] [24] [25]India is a peninsula. India, country that occupies the greater part of South Asia.It is made up of 28 states and eight union territories, and its national capital is New Delhi, built in the 20th century just south of the historic hub of Old Delhi to serve as India's administrative center.Its government is a constitutional republic that represents a highly diverse population consisting of thousands of ethnic ... India asked its citizens visiting Pakistan to return home \"at the earliest,\" a day after it unilaterally suspended a bilateral water-sharing pact, the Indus Waters Treaty, with its western ... A comprehensive overview of India's geography, people, society, government, economy, energy, communications, transportation, military, and space. Compare India with other countries on various indicators and rankings.\n"
     ]
    }
   ],
   "source": [
    "search_tool = DuckDuckGoSearchRun()\n",
    "\n",
    "results = search_tool.run(\"India\")\n",
    "print(results)"
   ]
  },
  {
   "cell_type": "code",
   "execution_count": 3,
   "id": "a8c958cf",
   "metadata": {},
   "outputs": [
    {
     "name": "stdout",
     "output_type": "stream",
     "text": [
      "Executing command:\n",
      " whoami\n"
     ]
    },
    {
     "name": "stderr",
     "output_type": "stream",
     "text": [
      "/home/kamesh/github-projects/langchain-tutorials-campusx/.venv/lib/python3.11/site-packages/langchain_community/tools/shell/tool.py:33: UserWarning: The shell tool has no safeguards by default. Use at your own risk.\n",
      "  warnings.warn(\n"
     ]
    },
    {
     "data": {
      "text/plain": [
       "'kamesh\\n'"
      ]
     },
     "execution_count": 3,
     "metadata": {},
     "output_type": "execute_result"
    }
   ],
   "source": [
    "# shell tool\n",
    "from langchain_community.tools import ShellTool\n",
    "shell_tool = ShellTool()\n",
    "shell_tool.run(\"whoami\")"
   ]
  },
  {
   "cell_type": "code",
   "execution_count": 4,
   "id": "a4b6a47f",
   "metadata": {},
   "outputs": [],
   "source": [
    "\n",
    "# creating custom multiplication tool\n",
    "from langchain_community.tools import tool\n"
   ]
  },
  {
   "cell_type": "code",
   "execution_count": 5,
   "id": "49285bcf",
   "metadata": {},
   "outputs": [],
   "source": [
    "@tool\n",
    "def multiply(a: int, b: int) -> int:\n",
    "    \"\"\"Multiplies two numbers.\"\"\"\n",
    "    return a * b"
   ]
  },
  {
   "cell_type": "code",
   "execution_count": 6,
   "id": "ecea0ca1",
   "metadata": {},
   "outputs": [
    {
     "data": {
      "text/plain": [
       "6"
      ]
     },
     "execution_count": 6,
     "metadata": {},
     "output_type": "execute_result"
    }
   ],
   "source": [
    "multiply.invoke({\"a\": 2, \"b\": 3})"
   ]
  },
  {
   "cell_type": "markdown",
   "id": "bb19902c",
   "metadata": {},
   "source": [
    "# Creating a custom toolkit"
   ]
  },
  {
   "cell_type": "code",
   "execution_count": 7,
   "id": "238f0f97",
   "metadata": {},
   "outputs": [],
   "source": [
    "from langchain_community.tools import tool\n",
    "from typing import Type\n",
    "from pydantic import BaseModel,Field\n",
    "\n",
    "class MathOperation(BaseModel):\n",
    "    a: int = Field(..., description=\"First number\")\n",
    "    b: int = Field(..., description=\"Second number\")\n",
    "    \n",
    "\n",
    "\n",
    "@tool\n",
    "def add(a: int, b: int) -> int:\n",
    "    \"\"\"Adds two numbers.\"\"\"\n",
    "    return a + b\n",
    "@tool\n",
    "def subtract(a: int, b: int) -> int:\n",
    "    \"\"\"Subtracts two numbers.\"\"\"\n",
    "    return a - b\n",
    "@tool\n",
    "def divide(a: int, b: int) -> float:\n",
    "    \"\"\"Divides two numbers.\"\"\"\n",
    "    if b == 0:\n",
    "        raise ValueError(\"Cannot divide by zero.\")\n",
    "    return a / b\n",
    "@tool\n",
    "def multiply(a: int, b: int) -> int:\n",
    "    \"\"\"Multiplies two numbers.\"\"\"\n",
    "    return a * b"
   ]
  },
  {
   "cell_type": "code",
   "execution_count": 10,
   "id": "8c029f13",
   "metadata": {},
   "outputs": [],
   "source": [
    "class MathToolkit:\n",
    "    def get_tools(self):\n",
    "        return [add, subtract, divide, multiply]"
   ]
  },
  {
   "cell_type": "code",
   "execution_count": 14,
   "id": "c1061f8d",
   "metadata": {},
   "outputs": [
    {
     "name": "stdout",
     "output_type": "stream",
     "text": [
      "Tool name: add\n",
      "Tool description: Adds two numbers.\n",
      "\n",
      "Tool name: subtract\n",
      "Tool description: Subtracts two numbers.\n",
      "\n",
      "Tool name: divide\n",
      "Tool description: Divides two numbers.\n",
      "\n",
      "Tool name: multiply\n",
      "Tool description: Multiplies two numbers.\n",
      "\n"
     ]
    }
   ],
   "source": [
    "toolkit = MathToolkit()\n",
    "\n",
    "for tool in toolkit.get_tools():\n",
    "    print(f\"Tool name: {tool.name}\")\n",
    "    print(f\"Tool description: {tool.description}\")\n",
    "    \n",
    "    print()"
   ]
  },
  {
   "cell_type": "code",
   "execution_count": 22,
   "id": "db41c54c",
   "metadata": {},
   "outputs": [],
   "source": [
    "# creating structured tool\n",
    "from langchain_community.tools import StructuredTool,tool\n",
    "\n",
    "class MultiplyInput(BaseModel):\n",
    "    a: int = Field(required=True, description=\"First number\")\n",
    "    b: int = Field(required=True, description=\"Second number\")"
   ]
  },
  {
   "cell_type": "code",
   "execution_count": 27,
   "id": "511ab7ac",
   "metadata": {},
   "outputs": [],
   "source": [
    "\n",
    "def multiply(a: int, b: int) -> int:\n",
    "    \"\"\"Multiplies two numbers.\"\"\"\n",
    "    return a * b\n",
    "\n",
    "multiply_tool = StructuredTool.from_function(\n",
    "    func=multiply,\n",
    "    name=\"multiply\",\n",
    "    description=\"Multiplies two numbers.\",\n",
    "    args_schema=MultiplyInput,\n",
    ")"
   ]
  },
  {
   "cell_type": "code",
   "execution_count": null,
   "id": "836bc66f",
   "metadata": {},
   "outputs": [
    {
     "data": {
      "text/plain": [
       "6"
      ]
     },
     "execution_count": 28,
     "metadata": {},
     "output_type": "execute_result"
    }
   ],
   "source": [
    "multiply_tool.invoke(input={\n",
    "    \"a\":2,\n",
    "    \"b\":3\n",
    "})"
   ]
  }
 ],
 "metadata": {
  "kernelspec": {
   "display_name": ".venv",
   "language": "python",
   "name": "python3"
  },
  "language_info": {
   "codemirror_mode": {
    "name": "ipython",
    "version": 3
   },
   "file_extension": ".py",
   "mimetype": "text/x-python",
   "name": "python",
   "nbconvert_exporter": "python",
   "pygments_lexer": "ipython3",
   "version": "3.11.11"
  }
 },
 "nbformat": 4,
 "nbformat_minor": 5
}
