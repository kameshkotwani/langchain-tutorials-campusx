{
 "cells": [
  {
   "cell_type": "code",
   "execution_count": 1,
   "id": "95709c75",
   "metadata": {},
   "outputs": [
    {
     "data": {
      "text/plain": [
       "True"
      ]
     },
     "execution_count": 1,
     "metadata": {},
     "output_type": "execute_result"
    }
   ],
   "source": [
    "from langchain.schema import Document\n",
    "from langchain_ollama import OllamaEmbeddings\n",
    "from langchain_chroma import Chroma\n",
    "from dotenv import load_dotenv\n",
    "import os\n",
    "load_dotenv(dotenv_path=\"../.env\")"
   ]
  },
  {
   "cell_type": "code",
   "execution_count": 2,
   "id": "dc2e6864",
   "metadata": {},
   "outputs": [],
   "source": [
    "from langchain.schema import Document\n",
    "\n",
    "# Create LangChain documents for IPL players\n",
    "\n",
    "doc1 = Document(\n",
    "        page_content=\"Virat Kohli is one of the most successful and consistent batsmen in IPL history. Known for his aggressive batting style and fitness, he has led the Royal Challengers Bangalore in multiple seasons.\",\n",
    "        metadata={\"team\": \"Royal Challengers Bangalore\"}\n",
    "    )\n",
    "doc2 = Document(\n",
    "        page_content=\"Rohit Sharma is the most successful captain in IPL history, leading Mumbai Indians to five titles. He's known for his calm demeanor and ability to play big innings under pressure.\",\n",
    "        metadata={\"team\": \"Mumbai Indians\"}\n",
    "    )\n",
    "doc3 = Document(\n",
    "        page_content=\"MS Dhoni, famously known as Captain Cool, has led Chennai Super Kings to multiple IPL titles. His finishing skills, wicketkeeping, and leadership are legendary.\",\n",
    "        metadata={\"team\": \"Chennai Super Kings\"}\n",
    "    )\n",
    "doc4 = Document(\n",
    "        page_content=\"Jasprit Bumrah is considered one of the best fast bowlers in T20 cricket. Playing for Mumbai Indians, he is known for his yorkers and death-over expertise.\",\n",
    "        metadata={\"team\": \"Mumbai Indians\"}\n",
    "    )\n",
    "doc5 = Document(\n",
    "        page_content=\"Ravindra Jadeja is a dynamic all-rounder who contributes with both bat and ball. Representing Chennai Super Kings, his quick fielding and match-winning performances make him a key player.\",\n",
    "        metadata={\"team\": \"Chennai Super Kings\"}\n",
    "    )\n"
   ]
  },
  {
   "cell_type": "code",
   "execution_count": 3,
   "id": "f3a1ead4",
   "metadata": {},
   "outputs": [],
   "source": [
    "docs = [doc1, doc2, doc3, doc4, doc5]"
   ]
  },
  {
   "cell_type": "code",
   "execution_count": 4,
   "id": "9114983f",
   "metadata": {},
   "outputs": [
    {
     "name": "stdout",
     "output_type": "stream",
     "text": [
      "nomic-embed-text\n"
     ]
    }
   ],
   "source": [
    "print(os.getenv(\"OLLAMA_EMBEDDINGS_MODEL\"))"
   ]
  },
  {
   "cell_type": "code",
   "execution_count": 5,
   "id": "e143547f",
   "metadata": {},
   "outputs": [],
   "source": [
    "embeddings_model = OllamaEmbeddings(\n",
    "    model=os.getenv(\"OLLAMA_EMBEDDINGS_MODEL\"),\n",
    ")"
   ]
  },
  {
   "cell_type": "code",
   "execution_count": null,
   "id": "a14730a2",
   "metadata": {},
   "outputs": [],
   "source": [
    "# this is just creating the sample collection inside the chroma_db \n",
    "import os\n",
    "vector_store = Chroma(\n",
    "    embedding_function=embeddings_model,\n",
    "    persist_directory=\"../store/chroma_db\",\n",
    "    collection_name=\"sample\"\n",
    ")"
   ]
  },
  {
   "cell_type": "code",
   "execution_count": 20,
   "id": "11d5f9e5",
   "metadata": {},
   "outputs": [
    {
     "data": {
      "text/plain": [
       "['49bf8b26-7b83-4c8d-be30-46b10cd0c4b0',\n",
       " 'f672378e-f8e1-48d2-859b-c2a4bfafc27f',\n",
       " 'df51ba97-f904-482b-a54a-b185d25fc3a7',\n",
       " 'e411b1f5-e9cd-4b11-a1dc-4a89fe7846da',\n",
       " '029988bb-d285-4747-a61c-6d8c9ace14a1']"
      ]
     },
     "execution_count": 20,
     "metadata": {},
     "output_type": "execute_result"
    }
   ],
   "source": [
    "vector_store.add_documents(docs)"
   ]
  },
  {
   "cell_type": "code",
   "execution_count": 27,
   "id": "e0cea2db",
   "metadata": {},
   "outputs": [
    {
     "data": {
      "text/plain": [
       "{'ids': ['49bf8b26-7b83-4c8d-be30-46b10cd0c4b0',\n",
       "  'f672378e-f8e1-48d2-859b-c2a4bfafc27f',\n",
       "  'df51ba97-f904-482b-a54a-b185d25fc3a7',\n",
       "  'e411b1f5-e9cd-4b11-a1dc-4a89fe7846da',\n",
       "  '029988bb-d285-4747-a61c-6d8c9ace14a1'],\n",
       " 'embeddings': array([[-0.02391138,  0.0446561 , -0.18975312, ..., -0.01621226,\n",
       "         -0.05857208,  0.00235704],\n",
       "        [-0.03137496,  0.07580616, -0.16397974, ..., -0.06560668,\n",
       "         -0.02201559, -0.0141223 ],\n",
       "        [ 0.02310794,  0.06578492, -0.1838007 , ..., -0.02120681,\n",
       "         -0.04239425,  0.00048718],\n",
       "        [ 0.01452628,  0.03159952, -0.18322495, ..., -0.02956889,\n",
       "         -0.03745482,  0.00851554],\n",
       "        [-0.03486272,  0.03155484, -0.16415261, ..., -0.02375189,\n",
       "         -0.05099392,  0.03745424]]),\n",
       " 'documents': None,\n",
       " 'uris': None,\n",
       " 'data': None,\n",
       " 'metadatas': None,\n",
       " 'included': [<IncludeEnum.embeddings: 'embeddings'>]}"
      ]
     },
     "execution_count": 27,
     "metadata": {},
     "output_type": "execute_result"
    }
   ],
   "source": [
    "vector_store.get(include=['embeddings'])"
   ]
  },
  {
   "cell_type": "code",
   "execution_count": 21,
   "id": "184f4007",
   "metadata": {},
   "outputs": [],
   "source": [
    "import chromadb\n",
    "# some queries to wander around the chromadb\n",
    "# Connect to the Chroma vector store\n",
    "client = chromadb.PersistentClient(\n",
    "    path=\"../store/chroma_db\",  # Replace with the actual path to your Chroma DB\n",
    ")"
   ]
  },
  {
   "cell_type": "code",
   "execution_count": 31,
   "id": "f0b31e23",
   "metadata": {},
   "outputs": [
    {
     "data": {
      "text/plain": [
       "{'ids': ['49bf8b26-7b83-4c8d-be30-46b10cd0c4b0',\n",
       "  'f672378e-f8e1-48d2-859b-c2a4bfafc27f',\n",
       "  'df51ba97-f904-482b-a54a-b185d25fc3a7',\n",
       "  'e411b1f5-e9cd-4b11-a1dc-4a89fe7846da',\n",
       "  '029988bb-d285-4747-a61c-6d8c9ace14a1'],\n",
       " 'embeddings': None,\n",
       " 'documents': ['Virat Kohli is one of the most successful and consistent batsmen in IPL history. Known for his aggressive batting style and fitness, he has led the Royal Challengers Bangalore in multiple seasons.',\n",
       "  \"Rohit Sharma is the most successful captain in IPL history, leading Mumbai Indians to five titles. He's known for his calm demeanor and ability to play big innings under pressure.\",\n",
       "  'MS Dhoni, famously known as Captain Cool, has led Chennai Super Kings to multiple IPL titles. His finishing skills, wicketkeeping, and leadership are legendary.',\n",
       "  'Jasprit Bumrah is considered one of the best fast bowlers in T20 cricket. Playing for Mumbai Indians, he is known for his yorkers and death-over expertise.',\n",
       "  'Ravindra Jadeja is a dynamic all-rounder who contributes with both bat and ball. Representing Chennai Super Kings, his quick fielding and match-winning performances make him a key player.'],\n",
       " 'uris': None,\n",
       " 'data': None,\n",
       " 'metadatas': [{'team': 'Royal Challengers Bangalore'},\n",
       "  {'team': 'Mumbai Indians'},\n",
       "  {'team': 'Chennai Super Kings'},\n",
       "  {'team': 'Mumbai Indians'},\n",
       "  {'team': 'Chennai Super Kings'}],\n",
       " 'included': [<IncludeEnum.documents: 'documents'>,\n",
       "  <IncludeEnum.metadatas: 'metadatas'>]}"
      ]
     },
     "execution_count": 31,
     "metadata": {},
     "output_type": "execute_result"
    }
   ],
   "source": [
    "client.get_collection(\"sample\").get()"
   ]
  },
  {
   "cell_type": "code",
   "execution_count": 25,
   "id": "88321c0d",
   "metadata": {},
   "outputs": [
    {
     "data": {
      "text/plain": [
       "['89f541e3-4ac5-44bd-ae17-877853d52aab',\n",
       " '8866dec7-83de-4ee3-975d-5d73c60911d1',\n",
       " '2c74f180-48a7-44fd-aa25-45f09b55edba',\n",
       " 'f0bee2a8-84d4-4c84-9091-b2196aad263d',\n",
       " 'd56d2400-cd5d-44fe-8755-c45bcab006f6']"
      ]
     },
     "execution_count": 25,
     "metadata": {},
     "output_type": "execute_result"
    }
   ],
   "source": [
    "# adding documents to the vector store\n",
    "vector_store.add_documents(docs)"
   ]
  },
  {
   "cell_type": "code",
   "execution_count": 35,
   "id": "45686ff5",
   "metadata": {},
   "outputs": [
    {
     "data": {
      "text/plain": [
       "{'ids': ['49bf8b26-7b83-4c8d-be30-46b10cd0c4b0',\n",
       "  'f672378e-f8e1-48d2-859b-c2a4bfafc27f',\n",
       "  'df51ba97-f904-482b-a54a-b185d25fc3a7',\n",
       "  'e411b1f5-e9cd-4b11-a1dc-4a89fe7846da',\n",
       "  '029988bb-d285-4747-a61c-6d8c9ace14a1'],\n",
       " 'embeddings': array([[-0.02391138,  0.0446561 , -0.18975312, ..., -0.01621226,\n",
       "         -0.05857208,  0.00235704],\n",
       "        [-0.03137496,  0.07580616, -0.16397974, ..., -0.06560668,\n",
       "         -0.02201559, -0.0141223 ],\n",
       "        [ 0.02310794,  0.06578492, -0.1838007 , ..., -0.02120681,\n",
       "         -0.04239425,  0.00048718],\n",
       "        [ 0.01452628,  0.03159952, -0.18322495, ..., -0.02956889,\n",
       "         -0.03745482,  0.00851554],\n",
       "        [-0.03486272,  0.03155484, -0.16415261, ..., -0.02375189,\n",
       "         -0.05099392,  0.03745424]]),\n",
       " 'documents': ['Virat Kohli is one of the most successful and consistent batsmen in IPL history. Known for his aggressive batting style and fitness, he has led the Royal Challengers Bangalore in multiple seasons.',\n",
       "  \"Rohit Sharma is the most successful captain in IPL history, leading Mumbai Indians to five titles. He's known for his calm demeanor and ability to play big innings under pressure.\",\n",
       "  'MS Dhoni, famously known as Captain Cool, has led Chennai Super Kings to multiple IPL titles. His finishing skills, wicketkeeping, and leadership are legendary.',\n",
       "  'Jasprit Bumrah is considered one of the best fast bowlers in T20 cricket. Playing for Mumbai Indians, he is known for his yorkers and death-over expertise.',\n",
       "  'Ravindra Jadeja is a dynamic all-rounder who contributes with both bat and ball. Representing Chennai Super Kings, his quick fielding and match-winning performances make him a key player.'],\n",
       " 'uris': None,\n",
       " 'data': None,\n",
       " 'metadatas': [{'team': 'Royal Challengers Bangalore'},\n",
       "  {'team': 'Mumbai Indians'},\n",
       "  {'team': 'Chennai Super Kings'},\n",
       "  {'team': 'Mumbai Indians'},\n",
       "  {'team': 'Chennai Super Kings'}],\n",
       " 'included': [<IncludeEnum.embeddings: 'embeddings'>,\n",
       "  <IncludeEnum.documents: 'documents'>,\n",
       "  <IncludeEnum.metadatas: 'metadatas'>]}"
      ]
     },
     "execution_count": 35,
     "metadata": {},
     "output_type": "execute_result"
    }
   ],
   "source": [
    "client.get_collection(\"sample\").get(include=['embeddings', 'documents', 'metadatas',])"
   ]
  },
  {
   "cell_type": "code",
   "execution_count": 28,
   "id": "9a4f058a",
   "metadata": {},
   "outputs": [
    {
     "data": {
      "text/plain": [
       "[Document(metadata={'team': 'Mumbai Indians'}, page_content=\"Rohit Sharma is the most successful captain in IPL history, leading Mumbai Indians to five titles. He's known for his calm demeanor and ability to play big innings under pressure.\"),\n",
       " Document(metadata={'team': 'Royal Challengers Bangalore'}, page_content='Virat Kohli is one of the most successful and consistent batsmen in IPL history. Known for his aggressive batting style and fitness, he has led the Royal Challengers Bangalore in multiple seasons.')]"
      ]
     },
     "execution_count": 28,
     "metadata": {},
     "output_type": "execute_result"
    }
   ],
   "source": [
    "vector_store.similarity_search(query=\"Who among these are best?\",k=2)"
   ]
  },
  {
   "cell_type": "code",
   "execution_count": 29,
   "id": "711df7ad",
   "metadata": {},
   "outputs": [
    {
     "data": {
      "text/plain": [
       "[(Document(metadata={'team': 'Mumbai Indians'}, page_content=\"Rohit Sharma is the most successful captain in IPL history, leading Mumbai Indians to five titles. He's known for his calm demeanor and ability to play big innings under pressure.\"),\n",
       "  1.4437192678451538),\n",
       " (Document(metadata={'team': 'Royal Challengers Bangalore'}, page_content='Virat Kohli is one of the most successful and consistent batsmen in IPL history. Known for his aggressive batting style and fitness, he has led the Royal Challengers Bangalore in multiple seasons.'),\n",
       "  1.444218397140503)]"
      ]
     },
     "execution_count": 29,
     "metadata": {},
     "output_type": "execute_result"
    }
   ],
   "source": [
    "vector_store.similarity_search_with_score(query=\"Who among these are best?\",k=2)"
   ]
  },
  {
   "cell_type": "code",
   "execution_count": 31,
   "id": "f0f7ed7e",
   "metadata": {},
   "outputs": [
    {
     "data": {
      "text/plain": [
       "[(Document(metadata={'team': 'Mumbai Indians'}, page_content='Jasprit Bumrah is considered one of the best fast bowlers in T20 cricket. Playing for Mumbai Indians, he is known for his yorkers and death-over expertise.'),\n",
       "  0.9763654470443726),\n",
       " (Document(metadata={'team': 'Mumbai Indians'}, page_content=\"Rohit Sharma is the most successful captain in IPL history, leading Mumbai Indians to five titles. He's known for his calm demeanor and ability to play big innings under pressure.\"),\n",
       "  1.3279783725738525),\n",
       " (Document(metadata={'team': 'Mumbai Indians'}, page_content='Jasprit Bumrah is considered one of the best fast bowlers in T20 cricket. Playing for Mumbai Indians, he is known for his yorkers and death-over expertise.'),\n",
       "  1.9987775087356567),\n",
       " (Document(metadata={'team': 'Mumbai Indians'}, page_content=\"Rohit Sharma is the most successful captain in IPL history, leading Mumbai Indians to five titles. He's known for his calm demeanor and ability to play big innings under pressure.\"),\n",
       "  2.0484039783477783)]"
      ]
     },
     "execution_count": 31,
     "metadata": {},
     "output_type": "execute_result"
    }
   ],
   "source": [
    "vector_store.similarity_search_with_score(query=\"good bowler\",filter={\"team\": \"Mumbai Indians\"})"
   ]
  },
  {
   "cell_type": "code",
   "execution_count": 32,
   "id": "aa54ea41",
   "metadata": {},
   "outputs": [],
   "source": [
    "# update documents\n",
    "updated_doc1 = Document(\n",
    "    page_content=\"Virat Kohli, the former captain of Royal Challengers Bangalore (RCB), is renowned for his aggressive leadership and consistent batting performances. He holds the record for the most runs in IPL history, including multiple centuries in a single season. Despite RCB not winning an IPL title under his captaincy, Kohli's passion and fitness set a benchmark for the league. His ability to chase targets and anchor innings has made him one of the most dependable players in T20 cricket.\",\n",
    "    metadata={\"team\": \"Royal Challengers Bangalore\"}\n",
    ")\n",
    "\n",
    "vector_store.update_document(document_id='18b26f21-e970-45d2-8b52-487764cf024b', document=updated_doc1)"
   ]
  },
  {
   "cell_type": "code",
   "execution_count": null,
   "id": "bd1bc4a0",
   "metadata": {},
   "outputs": [
    {
     "data": {
      "text/plain": [
       "{'ids': ['18b26f21-e970-45d2-8b52-487764cf024b',\n",
       "  '92efc6e9-311a-435c-a6b8-116747aa290a',\n",
       "  'bb0b1ca4-9330-45ab-bc91-33861b3714d3',\n",
       "  'e555c947-1f6e-4d76-9b3c-007facbfe9ab',\n",
       "  'f9dffaf6-4574-4a9d-b678-c2837e7d0046',\n",
       "  '89f541e3-4ac5-44bd-ae17-877853d52aab',\n",
       "  '8866dec7-83de-4ee3-975d-5d73c60911d1',\n",
       "  '2c74f180-48a7-44fd-aa25-45f09b55edba',\n",
       "  'f0bee2a8-84d4-4c84-9091-b2196aad263d',\n",
       "  'd56d2400-cd5d-44fe-8755-c45bcab006f6'],\n",
       " 'embeddings': array([[ 0.03273479,  0.05454364,  0.05850106, ...,  0.0108399 ,\n",
       "          0.01115176,  0.01208735],\n",
       "        [-0.00269376, -0.00012336,  0.028174  , ..., -0.01512954,\n",
       "          0.00589607, -0.01170314],\n",
       "        [ 0.00089186, -0.00475877,  0.01249096, ..., -0.01723026,\n",
       "          0.00082086,  0.00294096],\n",
       "        ...,\n",
       "        [ 0.09531463, -0.02467066,  0.05300403, ..., -0.00787272,\n",
       "          0.0121143 ,  0.01514551],\n",
       "        [-0.03419723,  0.04916613,  0.04235102, ..., -0.00588209,\n",
       "          0.02344721,  0.02730099],\n",
       "        [ 0.0083373 , -0.00390451,  0.07397915, ..., -0.0036953 ,\n",
       "          0.01083744,  0.00936246]]),\n",
       " 'documents': [\"Virat Kohli, the former captain of Royal Challengers Bangalore (RCB), is renowned for his aggressive leadership and consistent batting performances. He holds the record for the most runs in IPL history, including multiple centuries in a single season. Despite RCB not winning an IPL title under his captaincy, Kohli's passion and fitness set a benchmark for the league. His ability to chase targets and anchor innings has made him one of the most dependable players in T20 cricket.\",\n",
       "  \"Rohit Sharma is the most successful captain in IPL history, leading Mumbai Indians to five titles. He's known for his calm demeanor and ability to play big innings under pressure.\",\n",
       "  'MS Dhoni, famously known as Captain Cool, has led Chennai Super Kings to multiple IPL titles. His finishing skills, wicketkeeping, and leadership are legendary.',\n",
       "  'Jasprit Bumrah is considered one of the best fast bowlers in T20 cricket. Playing for Mumbai Indians, he is known for his yorkers and death-over expertise.',\n",
       "  'Ravindra Jadeja is a dynamic all-rounder who contributes with both bat and ball. Representing Chennai Super Kings, his quick fielding and match-winning performances make him a key player.',\n",
       "  'Virat Kohli is one of the most successful and consistent batsmen in IPL history. Known for his aggressive batting style and fitness, he has led the Royal Challengers Bangalore in multiple seasons.',\n",
       "  \"Rohit Sharma is the most successful captain in IPL history, leading Mumbai Indians to five titles. He's known for his calm demeanor and ability to play big innings under pressure.\",\n",
       "  'MS Dhoni, famously known as Captain Cool, has led Chennai Super Kings to multiple IPL titles. His finishing skills, wicketkeeping, and leadership are legendary.',\n",
       "  'Jasprit Bumrah is considered one of the best fast bowlers in T20 cricket. Playing for Mumbai Indians, he is known for his yorkers and death-over expertise.',\n",
       "  'Ravindra Jadeja is a dynamic all-rounder who contributes with both bat and ball. Representing Chennai Super Kings, his quick fielding and match-winning performances make him a key player.'],\n",
       " 'uris': None,\n",
       " 'included': ['embeddings', 'documents', 'metadatas'],\n",
       " 'data': None,\n",
       " 'metadatas': [{'team': 'Royal Challengers Bangalore'},\n",
       "  {'team': 'Mumbai Indians'},\n",
       "  {'team': 'Chennai Super Kings'},\n",
       "  {'team': 'Mumbai Indians'},\n",
       "  {'team': 'Chennai Super Kings'},\n",
       "  {'team': 'Royal Challengers Bangalore'},\n",
       "  {'team': 'Mumbai Indians'},\n",
       "  {'team': 'Chennai Super Kings'},\n",
       "  {'team': 'Mumbai Indians'},\n",
       "  {'team': 'Chennai Super Kings'}]}"
      ]
     },
     "execution_count": 33,
     "metadata": {},
     "output_type": "execute_result"
    }
   ],
   "source": [
    "vector_store.get(include=['embeddings', 'documents', 'metadatas',])"
   ]
  },
  {
   "cell_type": "code",
   "execution_count": 34,
   "id": "a55cc38e",
   "metadata": {},
   "outputs": [],
   "source": [
    "vector_store.delete(ids=['18b26f21-e970-45d2-8b52-487764cf024b'])"
   ]
  },
  {
   "cell_type": "code",
   "execution_count": 35,
   "id": "674370df",
   "metadata": {},
   "outputs": [
    {
     "data": {
      "text/plain": [
       "{'ids': ['92efc6e9-311a-435c-a6b8-116747aa290a',\n",
       "  'bb0b1ca4-9330-45ab-bc91-33861b3714d3',\n",
       "  'e555c947-1f6e-4d76-9b3c-007facbfe9ab',\n",
       "  'f9dffaf6-4574-4a9d-b678-c2837e7d0046',\n",
       "  '89f541e3-4ac5-44bd-ae17-877853d52aab',\n",
       "  '8866dec7-83de-4ee3-975d-5d73c60911d1',\n",
       "  '2c74f180-48a7-44fd-aa25-45f09b55edba',\n",
       "  'f0bee2a8-84d4-4c84-9091-b2196aad263d',\n",
       "  'd56d2400-cd5d-44fe-8755-c45bcab006f6'],\n",
       " 'embeddings': array([[-0.00269376, -0.00012336,  0.028174  , ..., -0.01512954,\n",
       "          0.00589607, -0.01170314],\n",
       "        [ 0.00089186, -0.00475877,  0.01249096, ..., -0.01723026,\n",
       "          0.00082086,  0.00294096],\n",
       "        [-0.0271675 ,  0.00887193,  0.02696457, ..., -0.02591186,\n",
       "          0.00902413, -0.02005221],\n",
       "        ...,\n",
       "        [ 0.09531463, -0.02467066,  0.05300403, ..., -0.00787272,\n",
       "          0.0121143 ,  0.01514551],\n",
       "        [-0.03419723,  0.04916613,  0.04235102, ..., -0.00588209,\n",
       "          0.02344721,  0.02730099],\n",
       "        [ 0.0083373 , -0.00390451,  0.07397915, ..., -0.0036953 ,\n",
       "          0.01083744,  0.00936246]]),\n",
       " 'documents': [\"Rohit Sharma is the most successful captain in IPL history, leading Mumbai Indians to five titles. He's known for his calm demeanor and ability to play big innings under pressure.\",\n",
       "  'MS Dhoni, famously known as Captain Cool, has led Chennai Super Kings to multiple IPL titles. His finishing skills, wicketkeeping, and leadership are legendary.',\n",
       "  'Jasprit Bumrah is considered one of the best fast bowlers in T20 cricket. Playing for Mumbai Indians, he is known for his yorkers and death-over expertise.',\n",
       "  'Ravindra Jadeja is a dynamic all-rounder who contributes with both bat and ball. Representing Chennai Super Kings, his quick fielding and match-winning performances make him a key player.',\n",
       "  'Virat Kohli is one of the most successful and consistent batsmen in IPL history. Known for his aggressive batting style and fitness, he has led the Royal Challengers Bangalore in multiple seasons.',\n",
       "  \"Rohit Sharma is the most successful captain in IPL history, leading Mumbai Indians to five titles. He's known for his calm demeanor and ability to play big innings under pressure.\",\n",
       "  'MS Dhoni, famously known as Captain Cool, has led Chennai Super Kings to multiple IPL titles. His finishing skills, wicketkeeping, and leadership are legendary.',\n",
       "  'Jasprit Bumrah is considered one of the best fast bowlers in T20 cricket. Playing for Mumbai Indians, he is known for his yorkers and death-over expertise.',\n",
       "  'Ravindra Jadeja is a dynamic all-rounder who contributes with both bat and ball. Representing Chennai Super Kings, his quick fielding and match-winning performances make him a key player.'],\n",
       " 'uris': None,\n",
       " 'included': ['embeddings', 'documents', 'metadatas'],\n",
       " 'data': None,\n",
       " 'metadatas': [{'team': 'Mumbai Indians'},\n",
       "  {'team': 'Chennai Super Kings'},\n",
       "  {'team': 'Mumbai Indians'},\n",
       "  {'team': 'Chennai Super Kings'},\n",
       "  {'team': 'Royal Challengers Bangalore'},\n",
       "  {'team': 'Mumbai Indians'},\n",
       "  {'team': 'Chennai Super Kings'},\n",
       "  {'team': 'Mumbai Indians'},\n",
       "  {'team': 'Chennai Super Kings'}]}"
      ]
     },
     "execution_count": 35,
     "metadata": {},
     "output_type": "execute_result"
    }
   ],
   "source": [
    "vector_store.get(include=['embeddings', 'documents', 'metadatas',])"
   ]
  }
 ],
 "metadata": {
  "kernelspec": {
   "display_name": ".venv",
   "language": "python",
   "name": "python3"
  },
  "language_info": {
   "codemirror_mode": {
    "name": "ipython",
    "version": 3
   },
   "file_extension": ".py",
   "mimetype": "text/x-python",
   "name": "python",
   "nbconvert_exporter": "python",
   "pygments_lexer": "ipython3",
   "version": "3.11.11"
  }
 },
 "nbformat": 4,
 "nbformat_minor": 5
}
